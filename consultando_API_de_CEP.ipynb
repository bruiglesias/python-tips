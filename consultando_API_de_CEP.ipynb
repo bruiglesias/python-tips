{
 "cells": [
  {
   "cell_type": "markdown",
   "id": "933ca018",
   "metadata": {},
   "source": [
    "### Instalando a biblioteca requests"
   ]
  },
  {
   "cell_type": "code",
   "execution_count": 4,
   "id": "a93fcb2b",
   "metadata": {
    "scrolled": false
   },
   "outputs": [
    {
     "name": "stdout",
     "output_type": "stream",
     "text": [
      "Requirement already satisfied: requests in /home/iglesias/Documentos/machine-learning/python-tips/lib/python3.8/site-packages (2.26.0)\n",
      "Requirement already satisfied: charset-normalizer~=2.0.0; python_version >= \"3\" in /home/iglesias/Documentos/machine-learning/python-tips/lib/python3.8/site-packages (from requests) (2.0.7)\n",
      "Requirement already satisfied: idna<4,>=2.5; python_version >= \"3\" in /home/iglesias/Documentos/machine-learning/python-tips/lib/python3.8/site-packages (from requests) (3.3)\n",
      "Requirement already satisfied: urllib3<1.27,>=1.21.1 in /home/iglesias/Documentos/machine-learning/python-tips/lib/python3.8/site-packages (from requests) (1.26.7)\n",
      "Requirement already satisfied: certifi>=2017.4.17 in /home/iglesias/Documentos/machine-learning/python-tips/lib/python3.8/site-packages (from requests) (2021.10.8)\n"
     ]
    }
   ],
   "source": [
    "!pip3 install requests"
   ]
  },
  {
   "cell_type": "markdown",
   "id": "215733e7",
   "metadata": {},
   "source": [
    "### Buscando dados de um CEP em uma API"
   ]
  },
  {
   "cell_type": "code",
   "execution_count": 6,
   "id": "410d8f8e",
   "metadata": {},
   "outputs": [
    {
     "name": "stdout",
     "output_type": "stream",
     "text": [
      "{'cep': '69079020', 'address_type': 'Rua', 'address_name': 'General Carneiro', 'address': 'Rua General Carneiro', 'state': 'AM', 'district': 'São Francisco', 'lat': '-3.11503', 'lng': '-60.00375', 'city': 'Manaus', 'city_ibge': '1302603', 'ddd': '92'}\n"
     ]
    }
   ],
   "source": [
    "import requests\n",
    "cep = \"69079020\"\n",
    "link = f'https://cep.awesomeapi.com.br/json/{cep}'\n",
    "requisicao = requests.get(link)\n",
    "resposta = requisicao.json()\n",
    "\n",
    "print(resposta)"
   ]
  }
 ],
 "metadata": {
  "kernelspec": {
   "display_name": "Python 3 (ipykernel)",
   "language": "python",
   "name": "python3"
  },
  "language_info": {
   "codemirror_mode": {
    "name": "ipython",
    "version": 3
   },
   "file_extension": ".py",
   "mimetype": "text/x-python",
   "name": "python",
   "nbconvert_exporter": "python",
   "pygments_lexer": "ipython3",
   "version": "3.8.10"
  }
 },
 "nbformat": 4,
 "nbformat_minor": 5
}
