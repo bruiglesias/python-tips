{
 "cells": [
  {
   "cell_type": "markdown",
   "id": "11e5c77c",
   "metadata": {},
   "source": [
    "# Enviando um e-mail simples com python"
   ]
  },
  {
   "cell_type": "markdown",
   "id": "9cf52ba9",
   "metadata": {},
   "source": [
    "Para email mais complexos:\n",
    "- https://realpython.com/python-send-email/\n",
    "<br>\n",
    "<br>\n",
    "\n",
    "Pré requisito:\n",
    "- Configurar o Gmail remetente para aceitar envio a partir de aplicações menos seguras."
   ]
  },
  {
   "cell_type": "markdown",
   "id": "fe04f3fe",
   "metadata": {},
   "source": [
    "### Importação das bibliotecas"
   ]
  },
  {
   "cell_type": "code",
   "execution_count": 1,
   "id": "d1dc64e3",
   "metadata": {},
   "outputs": [],
   "source": [
    "import smtplib, ssl\n",
    "from email.mime.text import MIMEText"
   ]
  },
  {
   "cell_type": "markdown",
   "id": "b2cbdf2e",
   "metadata": {},
   "source": [
    "### Definição da classe de envio"
   ]
  },
  {
   "cell_type": "code",
   "execution_count": 8,
   "id": "ae84ddd3",
   "metadata": {},
   "outputs": [],
   "source": [
    "class Mail:\n",
    "\n",
    "    def __init__(self):\n",
    "        self.port = 465\n",
    "        self.smtp_server_domain_name = \"smtp.gmail.com\"\n",
    "        self.sender_mail = \"bruno.iglesias.nb@gmail.com\"\n",
    "        self.password = \"Bruno@1991\"\n",
    "\n",
    "    def send(self, emails, subject, content):\n",
    "        ssl_context = ssl.create_default_context()\n",
    "        service = smtplib.SMTP_SSL(self.smtp_server_domain_name, self.port, context=ssl_context)\n",
    "        service.login(self.sender_mail, self.password)\n",
    "        \n",
    "        for email in emails:\n",
    "            result = service.sendmail(self.sender_mail, email, f\"Subject: {subject}\\n{content}\")\n",
    "\n",
    "        service.quit()"
   ]
  },
  {
   "cell_type": "markdown",
   "id": "d75e7e8e",
   "metadata": {},
   "source": [
    "### Programa principal"
   ]
  },
  {
   "cell_type": "code",
   "execution_count": 9,
   "id": "0ab9c4ba",
   "metadata": {},
   "outputs": [
    {
     "name": "stdout",
     "output_type": "stream",
     "text": [
      "Enter emails: bruno.iglesias.eng@gmail.com\n",
      "Enter subject: E-mail de teste do Python\n"
     ]
    }
   ],
   "source": [
    "if __name__ == \"__main__\":\n",
    "    mails = input(\"Enter emails: \").split()\n",
    "    subject = input(\"Enter subject: \")\n",
    "\n",
    "    body_email = \"\"\"\n",
    "        <p>Ola, bom dia</p>\n",
    "        <p>E-mail de teste de codigo de envio de e-mail em python</p>\n",
    "        <p>Abraço,</p>\n",
    "        <p>Bruno P. Iglesias</p>\n",
    "    \"\"\"\n",
    "    \n",
    "    html_content = MIMEText(body_email, 'html')\n",
    "\n",
    "    mail = Mail()\n",
    "    mail.send(mails, subject, html_content)\n",
    "    "
   ]
  }
 ],
 "metadata": {
  "kernelspec": {
   "display_name": "Python 3 (ipykernel)",
   "language": "python",
   "name": "python3"
  },
  "language_info": {
   "codemirror_mode": {
    "name": "ipython",
    "version": 3
   },
   "file_extension": ".py",
   "mimetype": "text/x-python",
   "name": "python",
   "nbconvert_exporter": "python",
   "pygments_lexer": "ipython3",
   "version": "3.8.10"
  }
 },
 "nbformat": 4,
 "nbformat_minor": 5
}
