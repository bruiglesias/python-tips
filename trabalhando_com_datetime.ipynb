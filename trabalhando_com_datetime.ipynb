{
 "cells": [
  {
   "cell_type": "markdown",
   "id": "d0a54876",
   "metadata": {},
   "source": [
    "# Trabalhando com datas e tempo no python\n",
    "## Biblioteca: datatime"
   ]
  },
  {
   "cell_type": "markdown",
   "id": "ee8b5f11",
   "metadata": {},
   "source": [
    "### Documentação\n",
    "- link: https://docs.python.org/3/library/datetime.html"
   ]
  },
  {
   "cell_type": "markdown",
   "id": "b2104988",
   "metadata": {},
   "source": [
    "### Importação"
   ]
  },
  {
   "cell_type": "code",
   "execution_count": 1,
   "id": "2064cf03",
   "metadata": {},
   "outputs": [],
   "source": [
    "import datetime # para importar toda a biblioteca\n",
    "# import datetime as dt # abreviando\n",
    "# from datetime import date # quando se quer apenas 1 dos módulos"
   ]
  },
  {
   "cell_type": "markdown",
   "id": "0acd6652",
   "metadata": {},
   "source": [
    "### Principais classes"
   ]
  },
  {
   "cell_type": "markdown",
   "id": "291516c9",
   "metadata": {},
   "source": [
    "datetime.date : submódulo dedicado para datas\n",
    "<br><br>\n",
    "datetime.time : submódulo dedicado para tempo\n",
    "<br><br>\n",
    "datetime.datetime : submódulo dedicado para quando temos tanto tempo como data juntos\n",
    "<br><br>\n",
    "datetime.timedelta : usado quando o objetivo é saber a diferença entre períodos de tempo distintos"
   ]
  },
  {
   "cell_type": "markdown",
   "id": "3c23bba8",
   "metadata": {},
   "source": [
    "# Datas com datetime.date:"
   ]
  },
  {
   "cell_type": "code",
   "execution_count": 2,
   "id": "a1e32395",
   "metadata": {},
   "outputs": [
    {
     "name": "stdout",
     "output_type": "stream",
     "text": [
      "2021-11-06\n"
     ]
    }
   ],
   "source": [
    "data = datetime.date(2021, 11, 6)\n",
    "print(data)"
   ]
  },
  {
   "cell_type": "markdown",
   "id": "c2ce3d1f",
   "metadata": {},
   "source": [
    "### Alterando a formatação da data"
   ]
  },
  {
   "cell_type": "markdown",
   "id": "63da1b43",
   "metadata": {},
   "source": [
    "### ctime():"
   ]
  },
  {
   "cell_type": "code",
   "execution_count": 3,
   "id": "e97bc6a6",
   "metadata": {},
   "outputs": [
    {
     "name": "stdout",
     "output_type": "stream",
     "text": [
      "Sat Nov  6 00:00:00 2021\n"
     ]
    }
   ],
   "source": [
    "print(data.ctime())"
   ]
  },
  {
   "cell_type": "markdown",
   "id": "e5153f5d",
   "metadata": {},
   "source": [
    "### Acessando uma informação de data"
   ]
  },
  {
   "cell_type": "code",
   "execution_count": 4,
   "id": "2b9eea78",
   "metadata": {},
   "outputs": [
    {
     "name": "stdout",
     "output_type": "stream",
     "text": [
      "2021-11-02\n",
      "2021-11-06\n"
     ]
    }
   ],
   "source": [
    "nova_data = data.replace(day = 2)\n",
    "print(nova_data)\n",
    "print(data)"
   ]
  },
  {
   "cell_type": "markdown",
   "id": "1b1ebe64",
   "metadata": {},
   "source": [
    "### Pegando o dia de hoje -- datetime.date.today()"
   ]
  },
  {
   "cell_type": "code",
   "execution_count": 5,
   "id": "16dbdfac",
   "metadata": {},
   "outputs": [
    {
     "name": "stdout",
     "output_type": "stream",
     "text": [
      "2021-11-06\n"
     ]
    }
   ],
   "source": [
    "hoje = datetime.date.today()\n",
    "print(hoje)"
   ]
  },
  {
   "cell_type": "markdown",
   "id": "5adea2be",
   "metadata": {},
   "source": [
    "### Fazendo operação com datas"
   ]
  },
  {
   "cell_type": "code",
   "execution_count": 6,
   "id": "f2a094fb",
   "metadata": {},
   "outputs": [
    {
     "name": "stdout",
     "output_type": "stream",
     "text": [
      "4 days, 0:00:00\n",
      "<class 'datetime.timedelta'>\n"
     ]
    }
   ],
   "source": [
    "delta = hoje - nova_data\n",
    "print(delta)\n",
    "print(type(delta))"
   ]
  },
  {
   "cell_type": "code",
   "execution_count": 7,
   "id": "6ca7ec31",
   "metadata": {},
   "outputs": [
    {
     "name": "stdout",
     "output_type": "stream",
     "text": [
      "2021-11-10\n"
     ]
    }
   ],
   "source": [
    "futuro = hoje + delta\n",
    "print(futuro)"
   ]
  },
  {
   "cell_type": "markdown",
   "id": "a555e0d2",
   "metadata": {},
   "source": [
    "# Trabalho com tempo com datetime.time:"
   ]
  },
  {
   "cell_type": "code",
   "execution_count": 8,
   "id": "6aa64d80",
   "metadata": {},
   "outputs": [
    {
     "data": {
      "text/plain": [
       "datetime.time(10, 23, 15)"
      ]
     },
     "execution_count": 8,
     "metadata": {},
     "output_type": "execute_result"
    }
   ],
   "source": [
    "hora = datetime.time(10, 23, 15)\n",
    "hora"
   ]
  },
  {
   "cell_type": "code",
   "execution_count": 9,
   "id": "2d290227",
   "metadata": {},
   "outputs": [
    {
     "name": "stdout",
     "output_type": "stream",
     "text": [
      "10\n",
      "23\n",
      "15\n"
     ]
    }
   ],
   "source": [
    "print(hora.hour)\n",
    "print(hora.minute)\n",
    "print(hora.second)"
   ]
  },
  {
   "cell_type": "markdown",
   "id": "d91f115c",
   "metadata": {},
   "source": [
    "# Trabalho com Data e Tempo com Datetime"
   ]
  },
  {
   "cell_type": "code",
   "execution_count": 10,
   "id": "c06d7547",
   "metadata": {},
   "outputs": [
    {
     "data": {
      "text/plain": [
       "datetime.datetime(2021, 11, 6, 12, 11, 15)"
      ]
     },
     "execution_count": 10,
     "metadata": {},
     "output_type": "execute_result"
    }
   ],
   "source": [
    "data = datetime.datetime(2021, 11, 6, 12, 11, 15)\n",
    "data"
   ]
  },
  {
   "cell_type": "markdown",
   "id": "d9b606a7",
   "metadata": {},
   "source": [
    "### Pegando o momento exato - datetime.datetime.now()"
   ]
  },
  {
   "cell_type": "code",
   "execution_count": 11,
   "id": "d324c311",
   "metadata": {},
   "outputs": [
    {
     "data": {
      "text/plain": [
       "datetime.datetime(2021, 11, 6, 17, 52, 16, 800157)"
      ]
     },
     "execution_count": 11,
     "metadata": {},
     "output_type": "execute_result"
    }
   ],
   "source": [
    "agora = datetime.datetime.now()\n",
    "agora"
   ]
  },
  {
   "cell_type": "markdown",
   "id": "be48d20b",
   "metadata": {},
   "source": [
    "### Altera o texto de exibição da data de um formato datetime para uma string \n",
    "<br>\n",
    "- strftime()\n",
    "<br><br>\n",
    "Link: https://docs.python.org/3/library/datetime.html#strftime-strptime-behavior"
   ]
  },
  {
   "cell_type": "code",
   "execution_count": 12,
   "id": "b73f0dff",
   "metadata": {},
   "outputs": [
    {
     "name": "stdout",
     "output_type": "stream",
     "text": [
      "Saturday 06-November-21 05:52\n"
     ]
    }
   ],
   "source": [
    "agora_string = agora.strftime(\"%A %d-%B-%y %I:%M\")\n",
    "print(agora_string)"
   ]
  },
  {
   "cell_type": "markdown",
   "id": "46e60883",
   "metadata": {},
   "source": [
    "### Altera o texto de exibição de uma data de uma string para um formato datetime\n",
    "<br>\n",
    "- strptime()\n",
    "<br><br>\n",
    "Link: https://docs.python.org/3/library/datetime.html#strftime-strptime-behavior"
   ]
  },
  {
   "cell_type": "code",
   "execution_count": 13,
   "id": "5793b87a",
   "metadata": {},
   "outputs": [
    {
     "data": {
      "text/plain": [
       "datetime.datetime(2021, 11, 6, 5, 52)"
      ]
     },
     "execution_count": 13,
     "metadata": {},
     "output_type": "execute_result"
    }
   ],
   "source": [
    "agora_datetime = datetime.datetime.strptime(agora_string, \"%A %d-%B-%y %I:%M\")\n",
    "agora_datetime"
   ]
  },
  {
   "cell_type": "markdown",
   "id": "d69820d6",
   "metadata": {},
   "source": [
    "# Aplicação - Registro de logs"
   ]
  },
  {
   "cell_type": "code",
   "execution_count": 14,
   "id": "aeab926d",
   "metadata": {},
   "outputs": [
    {
     "name": "stdout",
     "output_type": "stream",
     "text": [
      "Insira um comentário: sadasdas\n",
      "Insira um comentário: asdasd\n",
      "Insira um comentário: asdasd\n",
      "Insira um comentário: \n",
      "('sadasdas', '06/11/2021 17:52')\n",
      "('asdasd', '06/11/2021 17:52')\n",
      "('asdasd', '06/11/2021 17:52')\n"
     ]
    }
   ],
   "source": [
    "comentarios = []\n",
    "\n",
    "comentario = None\n",
    "\n",
    "while comentario != \"\":\n",
    "    comentario = input('Insira um comentário: ')\n",
    "    data_public = datetime.datetime.now()\n",
    "    data_public_str = data_public.strftime(\"%d/%m/%Y %H:%M\")\n",
    "    comentarios.append((comentario, data_public_str))\n",
    "    \n",
    "    \n",
    "for comentario in comentarios[:-1]:\n",
    "    print(comentario)"
   ]
  }
 ],
 "metadata": {
  "kernelspec": {
   "display_name": "Python 3 (ipykernel)",
   "language": "python",
   "name": "python3"
  },
  "language_info": {
   "codemirror_mode": {
    "name": "ipython",
    "version": 3
   },
   "file_extension": ".py",
   "mimetype": "text/x-python",
   "name": "python",
   "nbconvert_exporter": "python",
   "pygments_lexer": "ipython3",
   "version": "3.8.10"
  }
 },
 "nbformat": 4,
 "nbformat_minor": 5
}
