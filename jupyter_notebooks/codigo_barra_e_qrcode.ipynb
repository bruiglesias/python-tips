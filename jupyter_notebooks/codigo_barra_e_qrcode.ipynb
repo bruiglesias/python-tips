{
 "cells": [
  {
   "cell_type": "markdown",
   "id": "a1e062c8",
   "metadata": {},
   "source": [
    "## Código de barras e QRcode"
   ]
  },
  {
   "cell_type": "markdown",
   "id": "0f6fec85",
   "metadata": {
    "heading_collapsed": true
   },
   "source": [
    "### Instalando as bibliotecas"
   ]
  },
  {
   "cell_type": "code",
   "execution_count": 3,
   "id": "aab1b6a2",
   "metadata": {
    "collapsed": true,
    "hidden": true
   },
   "outputs": [
    {
     "name": "stdout",
     "output_type": "stream",
     "text": [
      "Collecting python-barcode\n",
      "  Downloading python_barcode-0.13.1-py3-none-any.whl (217 kB)\n",
      "\u001b[K     |████████████████████████████████| 217 kB 800 kB/s eta 0:00:01\n",
      "\u001b[?25hInstalling collected packages: python-barcode\n",
      "Successfully installed python-barcode-0.13.1\n",
      "Requirement already satisfied: pillow in /home/iglesias/Documentos/machine-learning/python-tips/lib/python3.8/site-packages (8.4.0)\n",
      "Collecting qrcode\n",
      "  Downloading qrcode-7.3.1.tar.gz (43 kB)\n",
      "\u001b[K     |████████████████████████████████| 43 kB 67 kB/s  eta 0:00:01\n",
      "\u001b[?25hBuilding wheels for collected packages: qrcode\n",
      "  Building wheel for qrcode (setup.py) ... \u001b[?25ldone\n",
      "\u001b[?25h  Created wheel for qrcode: filename=qrcode-7.3.1-py3-none-any.whl size=40386 sha256=1e5e67bc7b4b2679980e9fc186b08cb108b38426e5500a30b1b8d9b26f9e81aa\n",
      "  Stored in directory: /home/iglesias/.cache/pip/wheels/35/fd/04/2768886c56207acee0d6dc6b9bd5d06dac63a810f0c0a42516\n",
      "Successfully built qrcode\n",
      "Installing collected packages: qrcode\n",
      "Successfully installed qrcode-7.3.1\n"
     ]
    }
   ],
   "source": [
    "!pip3 install python-barcode \n",
    "!pip3 install pillow\n",
    "!pip3 install qrcode"
   ]
  },
  {
   "cell_type": "markdown",
   "id": "e6ee40b6",
   "metadata": {
    "heading_collapsed": true
   },
   "source": [
    "### Criando um código de barras"
   ]
  },
  {
   "cell_type": "code",
   "execution_count": 4,
   "id": "2ef24e62",
   "metadata": {
    "hidden": true
   },
   "outputs": [],
   "source": [
    "from barcode import EAN13"
   ]
  },
  {
   "cell_type": "code",
   "execution_count": 7,
   "id": "93e63b15",
   "metadata": {
    "hidden": true,
    "scrolled": true
   },
   "outputs": [
    {
     "data": {
      "text/plain": [
       "'../arquivos/codigo_barra.svg'"
      ]
     },
     "execution_count": 7,
     "metadata": {},
     "output_type": "execute_result"
    }
   ],
   "source": [
    "codigo_barra = EAN13(\"123456123456\")\n",
    "codigo_barra.save('../arquivos/codigo_barra')"
   ]
  },
  {
   "cell_type": "markdown",
   "id": "1287b282",
   "metadata": {
    "heading_collapsed": true
   },
   "source": [
    "### Criando um código de barras em PNG"
   ]
  },
  {
   "cell_type": "code",
   "execution_count": 10,
   "id": "fad83ed0",
   "metadata": {
    "hidden": true,
    "scrolled": true
   },
   "outputs": [
    {
     "data": {
      "text/plain": [
       "'../arquivos/codigo_barra.png'"
      ]
     },
     "execution_count": 10,
     "metadata": {},
     "output_type": "execute_result"
    }
   ],
   "source": [
    "from barcode.writer import ImageWriter\n",
    "numero = \"123456123456\"\n",
    "codigo_barra = EAN13(numero, writer=ImageWriter())\n",
    "codigo_barra.save('../arquivos/codigo_barra')"
   ]
  },
  {
   "cell_type": "markdown",
   "id": "694c68fe",
   "metadata": {
    "heading_collapsed": true
   },
   "source": [
    "### Gerando um código de barra para vários produtos"
   ]
  },
  {
   "cell_type": "code",
   "execution_count": 11,
   "id": "1830fa81",
   "metadata": {
    "hidden": true
   },
   "outputs": [],
   "source": [
    "codigos_produtos = {\n",
    "    \"Feijao\": \"551746511111\",\n",
    "    \"Arroz\": \"665789011111\",\n",
    "    \"Macarrao\": \"665887111111\",\n",
    "    \"Azeite\": \"998556211111\"\n",
    "}"
   ]
  },
  {
   "cell_type": "code",
   "execution_count": 13,
   "id": "64bbbc05",
   "metadata": {
    "hidden": true
   },
   "outputs": [],
   "source": [
    "for produto in codigos_produtos:\n",
    "    numero = codigos_produtos[produto]\n",
    "    codigo_barra = EAN13(numero, writer=ImageWriter())\n",
    "    codigo_barra.save(f'../arquivos/{produto}_codigo')"
   ]
  },
  {
   "cell_type": "markdown",
   "id": "41c53b11",
   "metadata": {
    "heading_collapsed": true
   },
   "source": [
    "### Criando um QRcode"
   ]
  },
  {
   "cell_type": "code",
   "execution_count": 15,
   "id": "429ac98c",
   "metadata": {
    "hidden": true
   },
   "outputs": [],
   "source": [
    "import qrcode"
   ]
  },
  {
   "cell_type": "code",
   "execution_count": 16,
   "id": "7911309c",
   "metadata": {
    "hidden": true
   },
   "outputs": [],
   "source": [
    "imagem_qrcode = qrcode.make(\"https://www.google.com.br\")\n",
    "imagem_qrcode.save(\"../arquivos/qrcode.png\")"
   ]
  },
  {
   "cell_type": "markdown",
   "id": "70d3dc43",
   "metadata": {
    "heading_collapsed": true
   },
   "source": [
    "### Gerando um QRcode para vários produtos"
   ]
  },
  {
   "cell_type": "code",
   "execution_count": 20,
   "id": "4dc93dd0",
   "metadata": {
    "hidden": true
   },
   "outputs": [],
   "source": [
    "links_produtos = {\n",
    "\"Excel\": \"https://excelparaestagio.klickpages.com.br/inscricao-basico-cta-att?origemurl=hashtag_yt_org_minibasico2_videoqrcode\",\n",
    "\"VBA\": \"https://pages.hashtagtreinamentos.com/inscricao-minicurso-formulario?origemurl=hashtag_yt_org_miniform_videoqrcode\",\n",
    "\"Power BI\": \"https://excelparaestagio.klickpages.com.br/inscricao-minicurso-power-bi?origemurl=hashtag_yt_org_minicursopbi_videoqrcode\",\n",
    "\"Python\": \"https://pages.hashtagtreinamentos.com/inscricao-minicurso-python-automacao-org?origemurl=hashtag_yt_org_minipython_videoqrcode\",\n",
    "\"SQL\": \"https://excelparaestagio.klickpages.com.br/inscricao-minicurso-sql?origemurl=hashtag_yt_org_minisql_videoqrcode\",\n",
    "}"
   ]
  },
  {
   "cell_type": "code",
   "execution_count": 22,
   "id": "f5fe7bbd",
   "metadata": {
    "hidden": true
   },
   "outputs": [],
   "source": [
    "for produto in links_produtos:\n",
    "    link = links_produtos[produto]\n",
    "    imagem_qrcode = qrcode.make(link)\n",
    "    imagem_qrcode.save(f\"../arquivos/qrcode_{produto}.png\")"
   ]
  }
 ],
 "metadata": {
  "kernelspec": {
   "display_name": "Python 3 (ipykernel)",
   "language": "python",
   "name": "python3"
  },
  "language_info": {
   "codemirror_mode": {
    "name": "ipython",
    "version": 3
   },
   "file_extension": ".py",
   "mimetype": "text/x-python",
   "name": "python",
   "nbconvert_exporter": "python",
   "pygments_lexer": "ipython3",
   "version": "3.8.10"
  }
 },
 "nbformat": 4,
 "nbformat_minor": 5
}
