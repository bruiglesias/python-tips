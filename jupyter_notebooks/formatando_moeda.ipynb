{
 "cells": [
  {
   "cell_type": "markdown",
   "id": "9db78ec1",
   "metadata": {},
   "source": [
    "### Formatando moedas com a biblioteca locale"
   ]
  },
  {
   "cell_type": "code",
   "execution_count": 2,
   "id": "ff469e33",
   "metadata": {},
   "outputs": [
    {
     "data": {
      "text/plain": [
       "'R$ 12.345.678,50'"
      ]
     },
     "execution_count": 2,
     "metadata": {},
     "output_type": "execute_result"
    }
   ],
   "source": [
    "import locale\n",
    "\n",
    "locale.setlocale(locale.LC_ALL,'')\n",
    "\n",
    "faturamento = 12345678.50\n",
    "faturamento = locale.currency(faturamento, grouping=True)\n",
    "faturamento"
   ]
  }
 ],
 "metadata": {
  "kernelspec": {
   "display_name": "Python 3 (ipykernel)",
   "language": "python",
   "name": "python3"
  },
  "language_info": {
   "codemirror_mode": {
    "name": "ipython",
    "version": 3
   },
   "file_extension": ".py",
   "mimetype": "text/x-python",
   "name": "python",
   "nbconvert_exporter": "python",
   "pygments_lexer": "ipython3",
   "version": "3.8.10"
  }
 },
 "nbformat": 4,
 "nbformat_minor": 5
}
