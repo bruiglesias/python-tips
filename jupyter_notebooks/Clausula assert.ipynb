{
 "cells": [
  {
   "cell_type": "markdown",
   "id": "5bd7ee2e",
   "metadata": {
    "heading_collapsed": true
   },
   "source": [
    "# Assert em Python\n",
    "\n",
    "#### - Verifica que uma condição está sendo satisfeita para garantir a continuação do código\n",
    "\n",
    "#### - Usado  na construção, no desenvolvimento do código.\n",
    "\n",
    "#### - Não é usado na para ambiente de produção"
   ]
  },
  {
   "cell_type": "code",
   "execution_count": 1,
   "id": "d4feae53",
   "metadata": {
    "hidden": true
   },
   "outputs": [
    {
     "name": "stdout",
     "output_type": "stream",
     "text": [
      "Início\n",
      "Final\n"
     ]
    }
   ],
   "source": [
    "# Irá continuar\n",
    "print('Início')\n",
    "\n",
    "assert 1 < 2\n",
    "\n",
    "print('Final')"
   ]
  },
  {
   "cell_type": "code",
   "execution_count": 2,
   "id": "dc95735e",
   "metadata": {
    "collapsed": true,
    "hidden": true
   },
   "outputs": [
    {
     "name": "stdout",
     "output_type": "stream",
     "text": [
      "Início\n"
     ]
    },
    {
     "ename": "AssertionError",
     "evalue": "",
     "output_type": "error",
     "traceback": [
      "\u001b[0;31m---------------------------------------------------------------------------\u001b[0m",
      "\u001b[0;31mAssertionError\u001b[0m                            Traceback (most recent call last)",
      "\u001b[0;32m/tmp/ipykernel_138387/3272905101.py\u001b[0m in \u001b[0;36m<module>\u001b[0;34m\u001b[0m\n\u001b[1;32m      2\u001b[0m \u001b[0mprint\u001b[0m\u001b[0;34m(\u001b[0m\u001b[0;34m'Início'\u001b[0m\u001b[0;34m)\u001b[0m\u001b[0;34m\u001b[0m\u001b[0;34m\u001b[0m\u001b[0m\n\u001b[1;32m      3\u001b[0m \u001b[0;34m\u001b[0m\u001b[0m\n\u001b[0;32m----> 4\u001b[0;31m \u001b[0;32massert\u001b[0m \u001b[0;36m1\u001b[0m \u001b[0;34m>\u001b[0m \u001b[0;36m2\u001b[0m\u001b[0;34m\u001b[0m\u001b[0;34m\u001b[0m\u001b[0m\n\u001b[0m\u001b[1;32m      5\u001b[0m \u001b[0;34m\u001b[0m\u001b[0m\n\u001b[1;32m      6\u001b[0m \u001b[0mprint\u001b[0m\u001b[0;34m(\u001b[0m\u001b[0;34m'Final'\u001b[0m\u001b[0;34m)\u001b[0m\u001b[0;34m\u001b[0m\u001b[0;34m\u001b[0m\u001b[0m\n",
      "\u001b[0;31mAssertionError\u001b[0m: "
     ]
    }
   ],
   "source": [
    "# Não irá continuar\n",
    "print('Início')\n",
    "\n",
    "assert 1 > 2\n",
    "\n",
    "print('Final')"
   ]
  },
  {
   "cell_type": "markdown",
   "id": "3a1164d6",
   "metadata": {
    "heading_collapsed": true
   },
   "source": [
    "# Exemplo prático"
   ]
  },
  {
   "cell_type": "code",
   "execution_count": 7,
   "id": "8689f97b",
   "metadata": {
    "hidden": true
   },
   "outputs": [
    {
     "name": "stdout",
     "output_type": "stream",
     "text": [
      "{'USD': {'code': 'USD', 'codein': 'BRL', 'name': 'Dólar Americano/Real Brasileiro', 'high': '4.7392', 'low': '4.685', 'varBid': '0.0178', 'pctChange': '0.38', 'bid': '4.7142', 'ask': '4.7153', 'timestamp': '1649698511', 'create_date': '2022-04-11 14:35:11'}}\n",
      "4.7142\n"
     ]
    },
    {
     "ename": "AssertionError",
     "evalue": "",
     "output_type": "error",
     "traceback": [
      "\u001b[0;31m---------------------------------------------------------------------------\u001b[0m",
      "\u001b[0;31mAssertionError\u001b[0m                            Traceback (most recent call last)",
      "\u001b[0;32m/tmp/ipykernel_138387/89122956.py\u001b[0m in \u001b[0;36m<module>\u001b[0;34m\u001b[0m\n\u001b[1;32m     11\u001b[0m \u001b[0;34m\u001b[0m\u001b[0m\n\u001b[1;32m     12\u001b[0m \u001b[0;31m# Irá lançar um assertError porque o tipo da contação vem como string\u001b[0m\u001b[0;34m\u001b[0m\u001b[0;34m\u001b[0m\u001b[0;34m\u001b[0m\u001b[0m\n\u001b[0;32m---> 13\u001b[0;31m \u001b[0;32massert\u001b[0m \u001b[0mtype\u001b[0m\u001b[0;34m(\u001b[0m\u001b[0mcotacao\u001b[0m\u001b[0;34m)\u001b[0m \u001b[0;34m==\u001b[0m \u001b[0mfloat\u001b[0m\u001b[0;34m\u001b[0m\u001b[0;34m\u001b[0m\u001b[0m\n\u001b[0m\u001b[1;32m     14\u001b[0m \u001b[0;34m\u001b[0m\u001b[0m\n\u001b[1;32m     15\u001b[0m \u001b[0;31m# correção do erro acima\u001b[0m\u001b[0;34m\u001b[0m\u001b[0;34m\u001b[0m\u001b[0;34m\u001b[0m\u001b[0m\n",
      "\u001b[0;31mAssertionError\u001b[0m: "
     ]
    }
   ],
   "source": [
    "import requests\n",
    "\n",
    "requisicao = requests.get(\"https://economia.awesomeapi.com.br/last/USD-BRL\")\n",
    "requisicao_dict = requisicao.json()\n",
    "print(requisicao_dict)\n",
    "cotacao = requisicao_dict[\"USD\"][\"bid\"]\n",
    "\n",
    "print(cotacao)\n",
    "\n",
    "preco_produto = 100\n",
    "\n",
    "# Irá lançar um assertError porque o tipo da contação vem como string\n",
    "assert type(cotacao) == float\n",
    "\n",
    "# correção do erro acima\n",
    "cotacao = float(cotacao)\n",
    "\n",
    "faturamento = preco_produto * cotacao\n",
    "print(faturamento)"
   ]
  }
 ],
 "metadata": {
  "kernelspec": {
   "display_name": "Python 3 (ipykernel)",
   "language": "python",
   "name": "python3"
  },
  "language_info": {
   "codemirror_mode": {
    "name": "ipython",
    "version": 3
   },
   "file_extension": ".py",
   "mimetype": "text/x-python",
   "name": "python",
   "nbconvert_exporter": "python",
   "pygments_lexer": "ipython3",
   "version": "3.8.10"
  }
 },
 "nbformat": 4,
 "nbformat_minor": 5
}
