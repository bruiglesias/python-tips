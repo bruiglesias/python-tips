{
 "cells": [
  {
   "cell_type": "markdown",
   "id": "ccabd8c9",
   "metadata": {},
   "source": [
    "# Classses"
   ]
  },
  {
   "cell_type": "markdown",
   "id": "b343fb33",
   "metadata": {
    "heading_collapsed": true
   },
   "source": [
    "### Definindo uma classe no python"
   ]
  },
  {
   "cell_type": "code",
   "execution_count": 34,
   "id": "aee4205c",
   "metadata": {
    "hidden": true
   },
   "outputs": [],
   "source": [
    "class ControleRemoto:\n",
    "    def __init__(self, cor, profundidade, largura):\n",
    "        self.cor = cor\n",
    "        self.profundidade = profundidade\n",
    "        self.largura = largura     \n",
    "        # atributo private\n",
    "        self.__numero_serie = 202020\n",
    "        # atributo protected\n",
    "        self._numero_fabrica = 202020\n",
    "        \n",
    "    def passar_canal(self, botao):\n",
    "        if botao == '+':\n",
    "            print(\"Aumentar canal\")\n",
    "        elif botao == '-':\n",
    "            print(\"Diminuir canal\")"
   ]
  },
  {
   "cell_type": "markdown",
   "id": "47074aeb",
   "metadata": {
    "heading_collapsed": true
   },
   "source": [
    "### Inicializando um objeto da classe"
   ]
  },
  {
   "cell_type": "code",
   "execution_count": 35,
   "id": "ba40f56d",
   "metadata": {
    "hidden": true
   },
   "outputs": [],
   "source": [
    "controle_1 = ControleRemoto(\"branco\", 200, 50)"
   ]
  },
  {
   "cell_type": "markdown",
   "id": "7c1db1fd",
   "metadata": {
    "heading_collapsed": true
   },
   "source": [
    "### Imprimindo um atributo da classe"
   ]
  },
  {
   "cell_type": "code",
   "execution_count": 36,
   "id": "5eb1c74f",
   "metadata": {
    "hidden": true
   },
   "outputs": [
    {
     "data": {
      "text/plain": [
       "'branco'"
      ]
     },
     "execution_count": 36,
     "metadata": {},
     "output_type": "execute_result"
    }
   ],
   "source": [
    "controle_1.cor"
   ]
  },
  {
   "cell_type": "markdown",
   "id": "cc42a521",
   "metadata": {
    "heading_collapsed": true
   },
   "source": [
    "### Chamando um método da classe"
   ]
  },
  {
   "cell_type": "code",
   "execution_count": 37,
   "id": "982ff92b",
   "metadata": {
    "hidden": true
   },
   "outputs": [
    {
     "name": "stdout",
     "output_type": "stream",
     "text": [
      "Aumentar canal\n"
     ]
    }
   ],
   "source": [
    "controle_1.passar_canal('+')"
   ]
  },
  {
   "cell_type": "markdown",
   "id": "557d7aa5",
   "metadata": {
    "heading_collapsed": true
   },
   "source": [
    "### Tentando acessar um atributo privado"
   ]
  },
  {
   "cell_type": "code",
   "execution_count": 38,
   "id": "f8399c07",
   "metadata": {
    "hidden": true
   },
   "outputs": [
    {
     "ename": "AttributeError",
     "evalue": "'ControleRemoto' object has no attribute '__numero_serie'",
     "output_type": "error",
     "traceback": [
      "\u001b[0;31m---------------------------------------------------------------------------\u001b[0m",
      "\u001b[0;31mAttributeError\u001b[0m                            Traceback (most recent call last)",
      "\u001b[0;32m/tmp/ipykernel_19283/2363942412.py\u001b[0m in \u001b[0;36m<module>\u001b[0;34m\u001b[0m\n\u001b[0;32m----> 1\u001b[0;31m \u001b[0mcontrole_1\u001b[0m\u001b[0;34m.\u001b[0m\u001b[0m__numero_serie\u001b[0m\u001b[0;34m\u001b[0m\u001b[0;34m\u001b[0m\u001b[0m\n\u001b[0m",
      "\u001b[0;31mAttributeError\u001b[0m: 'ControleRemoto' object has no attribute '__numero_serie'"
     ]
    }
   ],
   "source": [
    "controle_1.__numero_serie"
   ]
  },
  {
   "cell_type": "markdown",
   "id": "c17f47cd",
   "metadata": {
    "heading_collapsed": true
   },
   "source": [
    "### Tentando acessar um atributo protegido"
   ]
  },
  {
   "cell_type": "code",
   "execution_count": 43,
   "id": "97e2cf1e",
   "metadata": {
    "hidden": true
   },
   "outputs": [
    {
     "data": {
      "text/plain": [
       "202020"
      ]
     },
     "execution_count": 43,
     "metadata": {},
     "output_type": "execute_result"
    }
   ],
   "source": [
    "controle_1._numero_fabrica"
   ]
  },
  {
   "cell_type": "markdown",
   "id": "bef44dbc",
   "metadata": {
    "heading_collapsed": true
   },
   "source": [
    "### Herança em Python"
   ]
  },
  {
   "cell_type": "code",
   "execution_count": 46,
   "id": "c9af4a94",
   "metadata": {
    "hidden": true
   },
   "outputs": [],
   "source": [
    "class Veiculo:\n",
    "    def __init__(self, quantidade_rodas):\n",
    "        self.quantidade_rodas = quantidade_rodas\n",
    "\n",
    "class Carro(Veiculo):\n",
    "    def __init__(self, quantidade_rodas, cor):\n",
    "        self.cor = cor\n",
    "        super().__init__(quantidade_rodas)"
   ]
  },
  {
   "cell_type": "code",
   "execution_count": 47,
   "id": "f66a8519",
   "metadata": {
    "hidden": true
   },
   "outputs": [
    {
     "data": {
      "text/plain": [
       "(4, 'azul')"
      ]
     },
     "execution_count": 47,
     "metadata": {},
     "output_type": "execute_result"
    }
   ],
   "source": [
    "fusca = Carro(4, \"azul\")\n",
    "fusca.quantidade_rodas, fusca.cor"
   ]
  },
  {
   "cell_type": "markdown",
   "id": "e4a094dd",
   "metadata": {
    "heading_collapsed": true
   },
   "source": [
    "## Exemplo Prático"
   ]
  },
  {
   "cell_type": "code",
   "execution_count": 40,
   "id": "0f357bca",
   "metadata": {
    "hidden": true
   },
   "outputs": [],
   "source": [
    "class Cliente:\n",
    "    def __init__(self, nome, email, plano):\n",
    "        self.nome = nome\n",
    "        self.email = email\n",
    "        self.lista_planos = ['basic', 'premium']\n",
    "        \n",
    "        if plano in self.lista_planos:\n",
    "            self.plano = plano\n",
    "        else:\n",
    "            raise Exception(\"Plano inválido\")\n",
    "        \n",
    "    def mudar_plano(self, novo_plano):\n",
    "        if novo_plano in self.lista_planos:\n",
    "            self.plano = novo_plano\n",
    "        else:\n",
    "            raise Exception(\"Plano inválido\")\n",
    "    \n",
    "    "
   ]
  },
  {
   "cell_type": "code",
   "execution_count": 41,
   "id": "26f1fa96",
   "metadata": {
    "hidden": true
   },
   "outputs": [
    {
     "data": {
      "text/plain": [
       "('Bruno', 'bruno.iglesias.eng@gmail.com', 'basic')"
      ]
     },
     "execution_count": 41,
     "metadata": {},
     "output_type": "execute_result"
    }
   ],
   "source": [
    "cliente = Cliente(\"Bruno\", \"bruno.iglesias.eng@gmail.com\", \"basic\")\n",
    "cliente.nome, cliente.email, cliente.plano"
   ]
  },
  {
   "cell_type": "code",
   "execution_count": 42,
   "id": "ebe2bc41",
   "metadata": {
    "hidden": true
   },
   "outputs": [
    {
     "data": {
      "text/plain": [
       "('Bruno', 'bruno.iglesias.eng@gmail.com', 'premium')"
      ]
     },
     "execution_count": 42,
     "metadata": {},
     "output_type": "execute_result"
    }
   ],
   "source": [
    "cliente.mudar_plano('premium')\n",
    "cliente.nome, cliente.email, cliente.plano"
   ]
  },
  {
   "cell_type": "code",
   "execution_count": null,
   "id": "ef5ac8b2",
   "metadata": {
    "hidden": true
   },
   "outputs": [],
   "source": []
  },
  {
   "cell_type": "code",
   "execution_count": null,
   "id": "b045206b",
   "metadata": {
    "hidden": true
   },
   "outputs": [],
   "source": []
  }
 ],
 "metadata": {
  "kernelspec": {
   "display_name": "Python 3 (ipykernel)",
   "language": "python",
   "name": "python3"
  },
  "language_info": {
   "codemirror_mode": {
    "name": "ipython",
    "version": 3
   },
   "file_extension": ".py",
   "mimetype": "text/x-python",
   "name": "python",
   "nbconvert_exporter": "python",
   "pygments_lexer": "ipython3",
   "version": "3.8.10"
  }
 },
 "nbformat": 4,
 "nbformat_minor": 5
}
