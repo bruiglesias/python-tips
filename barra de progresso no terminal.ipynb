{
 "cells": [
  {
   "cell_type": "markdown",
   "id": "54110d1b",
   "metadata": {},
   "source": [
    "### Instalando as bibliotecas"
   ]
  },
  {
   "cell_type": "code",
   "execution_count": 1,
   "id": "ca2b72de",
   "metadata": {
    "collapsed": true
   },
   "outputs": [
    {
     "name": "stdout",
     "output_type": "stream",
     "text": [
      "Collecting tqdm\n",
      "  Downloading tqdm-4.62.3-py2.py3-none-any.whl (76 kB)\n",
      "\u001b[K     |████████████████████████████████| 76 kB 129 kB/s eta 0:00:01\n",
      "\u001b[?25hInstalling collected packages: tqdm\n",
      "Successfully installed tqdm-4.62.3\n",
      "Requirement already satisfied: requests in /home/iglesias/Documentos/machine-learning/python-tips/lib/python3.8/site-packages (2.26.0)\n",
      "Requirement already satisfied: urllib3<1.27,>=1.21.1 in /home/iglesias/Documentos/machine-learning/python-tips/lib/python3.8/site-packages (from requests) (1.26.7)\n",
      "Requirement already satisfied: idna<4,>=2.5; python_version >= \"3\" in /home/iglesias/Documentos/machine-learning/python-tips/lib/python3.8/site-packages (from requests) (3.3)\n",
      "Requirement already satisfied: charset-normalizer~=2.0.0; python_version >= \"3\" in /home/iglesias/Documentos/machine-learning/python-tips/lib/python3.8/site-packages (from requests) (2.0.7)\n",
      "Requirement already satisfied: certifi>=2017.4.17 in /home/iglesias/Documentos/machine-learning/python-tips/lib/python3.8/site-packages (from requests) (2021.10.8)\n"
     ]
    }
   ],
   "source": [
    "!pip3 install tqdm\n",
    "!pip3 install requests"
   ]
  },
  {
   "cell_type": "markdown",
   "id": "42f43d03",
   "metadata": {},
   "source": [
    "### Progresso em um loop (for)"
   ]
  },
  {
   "cell_type": "code",
   "execution_count": 4,
   "id": "a53c1b45",
   "metadata": {},
   "outputs": [
    {
     "name": "stderr",
     "output_type": "stream",
     "text": [
      "100%|███████████████████████████████████████████| 10/10 [00:10<00:00,  1.00s/it]\n"
     ]
    }
   ],
   "source": [
    "from tqdm import tqdm\n",
    "import time\n",
    "\n",
    "for i in tqdm(range(10)):\n",
    "    time.sleep(1)"
   ]
  },
  {
   "cell_type": "markdown",
   "id": "fcc52cae",
   "metadata": {},
   "source": [
    "### Atualizando a barra de progresso manualmente"
   ]
  },
  {
   "cell_type": "code",
   "execution_count": 3,
   "id": "931b515e",
   "metadata": {},
   "outputs": [
    {
     "name": "stderr",
     "output_type": "stream",
     "text": [
      "100%|█████████████████████████████████████████| 100/100 [00:10<00:00,  9.97it/s]\n"
     ]
    }
   ],
   "source": [
    "with tqdm(total=100) as progress_bar:\n",
    "    for i in range(10):\n",
    "        time.sleep(1)\n",
    "        progress_bar.update(10)"
   ]
  },
  {
   "cell_type": "markdown",
   "id": "3f75203d",
   "metadata": {},
   "source": [
    "### Exemplo de aplicação"
   ]
  },
  {
   "cell_type": "code",
   "execution_count": 5,
   "id": "55344661",
   "metadata": {},
   "outputs": [
    {
     "name": "stderr",
     "output_type": "stream",
     "text": [
      "100%|███████████████████████████████████████████| 72/72 [00:20<00:00,  3.59it/s]"
     ]
    },
    {
     "name": "stdout",
     "output_type": "stream",
     "text": [
      "[('20735970', 'Engenho de Dentro'), ('22763585', 'Cidade de Deus'), ('23075356', 'Campo Grande'), ('21831449', 'Senador Camará'), ('21843660', 'Senador Camará'), ('23595380', 'Santa Cruz'), ('21741360', 'Jardim Sulacap'), ('21610510', 'Marechal Hermes'), ('23085800', 'Campo Grande'), ('22730080', 'Jacarepaguá'), ('22735170', 'Tanque'), ('22753310', 'Freguesia (Jacarepaguá)'), ('21210600', 'Vila da Penha'), ('21215030', 'Penha Circular'), ('20535020', 'Alto da Boa Vista'), ('20941190', 'São Cristóvão'), ('21042500', 'Bonsucesso'), ('22710770', 'Curicica'), ('23076510', 'Campo Grande'), ('23026090', 'Guaratiba'), ('20240090', 'Santa Teresa'), ('22790785', 'Barra da Tijuca'), ('22765527', 'Gardênia Azul'), ('21340380', 'Oswaldo Cruz'), ('21615200', 'Vila Militar'), ('22461090', 'Jardim Botânico'), ('22780000', 'Curicica'), ('21250160', 'Cordovil')]\n"
     ]
    },
    {
     "name": "stderr",
     "output_type": "stream",
     "text": [
      "\n"
     ]
    }
   ],
   "source": [
    "from tqdm import tqdm\n",
    "import requests\n",
    "\n",
    "with open(\"./arquivos/ceps.txt\", \"r\") as arquivo:\n",
    "    ceps = arquivo.read()\n",
    "    \n",
    "ceps = ceps.split('\\n')\n",
    "\n",
    "enderecos_entrega = []\n",
    "\n",
    "for cep in tqdm(ceps):\n",
    "    link = f'https://cep.awesomeapi.com.br/json/{cep}'\n",
    "    requisicao = requests.get(link)\n",
    "    resposta = requisicao.json()\n",
    "    cidade = resposta['city']\n",
    "    bairro = resposta['district']\n",
    "    # se a cidade for igual ao rio de janeiro, adicionar na lista\n",
    "    if cidade == \"Rio de Janeiro\":\n",
    "        enderecos_entrega.append((cep, bairro))\n",
    "\n",
    "        # exibir os ceps do rio de janeiro\n",
    "print(enderecos_entrega) \n",
    "        \n"
   ]
  }
 ],
 "metadata": {
  "kernelspec": {
   "display_name": "Python 3 (ipykernel)",
   "language": "python",
   "name": "python3"
  },
  "language_info": {
   "codemirror_mode": {
    "name": "ipython",
    "version": 3
   },
   "file_extension": ".py",
   "mimetype": "text/x-python",
   "name": "python",
   "nbconvert_exporter": "python",
   "pygments_lexer": "ipython3",
   "version": "3.8.10"
  }
 },
 "nbformat": 4,
 "nbformat_minor": 5
}
