{
 "cells": [
  {
   "cell_type": "code",
   "execution_count": 9,
   "metadata": {},
   "outputs": [
    {
     "name": "stdout",
     "output_type": "stream",
     "text": [
      "Requirement already satisfied: pandas in /home/iglesias/Documentos/machine-learning/python-tips/lib/python3.8/site-packages (1.3.4)\n",
      "Requirement already satisfied: pytz>=2017.3 in /home/iglesias/Documentos/machine-learning/python-tips/lib/python3.8/site-packages (from pandas) (2021.3)\n",
      "Requirement already satisfied: python-dateutil>=2.7.3 in /home/iglesias/Documentos/machine-learning/python-tips/lib/python3.8/site-packages (from pandas) (2.8.2)\n",
      "Requirement already satisfied: numpy>=1.17.3; platform_machine != \"aarch64\" and platform_machine != \"arm64\" and python_version < \"3.10\" in /home/iglesias/Documentos/machine-learning/python-tips/lib/python3.8/site-packages (from pandas) (1.21.4)\n",
      "Requirement already satisfied: six>=1.5 in /home/iglesias/Documentos/machine-learning/python-tips/lib/python3.8/site-packages (from python-dateutil>=2.7.3->pandas) (1.16.0)\n",
      "Collecting openpyxl\n",
      "  Downloading openpyxl-3.0.9-py2.py3-none-any.whl (242 kB)\n",
      "\u001b[K     |████████████████████████████████| 242 kB 815 kB/s eta 0:00:01\n",
      "\u001b[?25hCollecting et-xmlfile\n",
      "  Downloading et_xmlfile-1.1.0-py3-none-any.whl (4.7 kB)\n",
      "Installing collected packages: et-xmlfile, openpyxl\n",
      "Successfully installed et-xmlfile-1.1.0 openpyxl-3.0.9\n"
     ]
    }
   ],
   "source": [
    "!pip3 install pandas\n",
    "!pip3 install openpyxl"
   ]
  },
  {
   "cell_type": "code",
   "execution_count": 22,
   "metadata": {},
   "outputs": [
    {
     "name": "stdout",
     "output_type": "stream",
     "text": [
      "Faturamento da Loja Shopping Recife foi de R$ 131.871,00\n",
      "Faturamento da Loja Shopping Midway Mall foi de R$ 105.269,00\n",
      "Faturamento da Loja Iguatemi Campinas foi de R$ 149.959,00\n",
      "Faturamento da Loja Palladium Shopping Curitiba foi de R$ 120.621,00\n",
      "Faturamento da Loja Shopping Eldorado foi de R$ 124.339,00\n",
      "Faturamento da Loja Shopping Morumbi foi de R$ 117.936,00\n",
      "Faturamento da Loja Rio Mar Shopping Fortaleza foi de R$ 127.890,00\n",
      "Faturamento da Loja Shopping União de Osasco foi de R$ 116.032,00\n",
      "Faturamento da Loja Shopping Ibirapuera foi de R$ 107.907,00\n",
      "Faturamento da Loja Rio Mar Recife foi de R$ 139.869,00\n",
      "Faturamento da Loja Shopping Barra foi de R$ 103.148,00\n",
      "Faturamento da Loja Shopping Center Interlagos foi de R$ 103.821,00\n",
      "Faturamento da Loja Ribeirão Shopping foi de R$ 112.936,00\n",
      "Faturamento da Loja Shopping Iguatemi Fortaleza foi de R$ 124.182,00\n",
      "Faturamento da Loja Parque Dom Pedro Shopping foi de R$ 122.055,00\n",
      "Faturamento da Loja Passei das Águas Shopping foi de R$ 112.089,00\n",
      "Faturamento da Loja Shopping SP Market foi de R$ 110.833,00\n",
      "Faturamento da Loja Shopping Center Leste Aricanduva foi de R$ 86.156,00\n",
      "Faturamento da Loja Iguatemi Esplanada foi de R$ 103.342,00\n",
      "Faturamento da Loja Novo Shopping Ribeirão Preto foi de R$ 99.703,00\n",
      "Faturamento da Loja Norte Shopping foi de R$ 101.491,00\n",
      "Demorou: 0.6146810054779053\n"
     ]
    }
   ],
   "source": [
    "import time\n",
    "import os\n",
    "import pandas as pd\n",
    "import locale\n",
    "\n",
    "locale.setlocale(locale.LC_ALL,'')\n",
    "\n",
    "tempo_inicial = time.time()\n",
    "\n",
    "arquivos = os.listdir('./datasets/parallel/')\n",
    "\n",
    "tabela_final = pd.DataFrame()\n",
    "\n",
    "for arquivo in arquivos:\n",
    "    if \"xlsx\" in arquivo:\n",
    "        tabela = pd.read_excel('./datasets/parallel/' + arquivo)\n",
    "        faturamento = tabela[\"Valor Final\"].sum()\n",
    "        faturamento = locale.currency( faturamento, grouping=True )\n",
    "        print(f\"Faturamento da Loja {arquivo.replace('.xlsx', '')} foi de {faturamento}\")\n",
    "        \n",
    "print(f\"Demorou: {time.time() - tempo_inicial}\")"
   ]
  }
 ],
 "metadata": {
  "kernelspec": {
   "display_name": "Python 3 (ipykernel)",
   "language": "python",
   "name": "python3"
  },
  "language_info": {
   "codemirror_mode": {
    "name": "ipython",
    "version": 3
   },
   "file_extension": ".py",
   "mimetype": "text/x-python",
   "name": "python",
   "nbconvert_exporter": "python",
   "pygments_lexer": "ipython3",
   "version": "3.8.10"
  }
 },
 "nbformat": 4,
 "nbformat_minor": 4
}
