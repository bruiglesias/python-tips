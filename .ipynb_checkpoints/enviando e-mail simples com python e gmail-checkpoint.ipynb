{
 "cells": [
  {
   "cell_type": "markdown",
   "id": "11e5c77c",
   "metadata": {},
   "source": [
    "# Enviando um e-mail simples com python"
   ]
  },
  {
   "cell_type": "markdown",
   "id": "9cf52ba9",
   "metadata": {},
   "source": [
    "Para email mais complexos:\n",
    "- https://realpython.com/python-send-email/\n",
    "<br>\n",
    "<br>\n",
    "\n",
    "Pré requisito:\n",
    "- Configurar o Gmail remetente para aceitar envio a partir de aplicações menos seguras."
   ]
  },
  {
   "cell_type": "markdown",
   "id": "956872f5",
   "metadata": {},
   "source": [
    "### Importação das bibliotecas"
   ]
  },
  {
   "cell_type": "code",
   "execution_count": 1,
   "id": "d1dc64e3",
   "metadata": {},
   "outputs": [],
   "source": [
    "import smtplib, ssl\n",
    "from email.mime.text import MIMEText"
   ]
  },
  {
   "cell_type": "markdown",
   "id": "71983b6e",
   "metadata": {},
   "source": [
    "### Definição da classe de envio"
   ]
  },
  {
   "cell_type": "code",
   "execution_count": 3,
   "id": "ae84ddd3",
   "metadata": {},
   "outputs": [],
   "source": [
    "class Mail:\n",
    "    \n",
    "    def __init__(self):\n",
    "        self.port  = 465\n",
    "        self.smtp_server_domain_name = \"smtp.gmail.com\"\n",
    "        self.sender_mail = \"bruno.iglesias.nb@gmail.com\"\n",
    "        self.password = \"Bruno@1991\"\n",
    "        \n",
    "    def send(self, emails, subject, content):\n",
    "        ssl_content = ssl.create_default_context()\n",
    "        service = smtplib.SMTP_SSL(self.smtp_server_domain_name, self.port, context=ssl_content)\n",
    "        service.login(self.sender_mail, self.password)\n",
    "        \n",
    "        for email in emails:\n",
    "            result = service.sendmail(self.sender_mail, email, \n",
    "                                      f\"Subject: {subject} \\n {content}\")\n",
    "            print(result)\n",
    "        service.quit()"
   ]
  },
  {
   "cell_type": "markdown",
   "id": "697794d1",
   "metadata": {},
   "source": [
    "### Programa principal"
   ]
  },
  {
   "cell_type": "code",
   "execution_count": 4,
   "id": "abaa23ff",
   "metadata": {},
   "outputs": [
    {
     "name": "stdout",
     "output_type": "stream",
     "text": [
      "Digite os e-mails: bruno.iglesias.eng@gmail.com\n",
      "Digite o assunto do email: Email de teste do Python\n"
     ]
    },
    {
     "ename": "NameError",
     "evalue": "name 'selff' is not defined",
     "output_type": "error",
     "traceback": [
      "\u001b[0;31m---------------------------------------------------------------------------\u001b[0m",
      "\u001b[0;31mNameError\u001b[0m                                 Traceback (most recent call last)",
      "\u001b[0;32m/tmp/ipykernel_30165/180422792.py\u001b[0m in \u001b[0;36m<module>\u001b[0;34m\u001b[0m\n\u001b[1;32m     13\u001b[0m \u001b[0;34m\u001b[0m\u001b[0m\n\u001b[1;32m     14\u001b[0m     \u001b[0mmail\u001b[0m \u001b[0;34m=\u001b[0m \u001b[0mMail\u001b[0m\u001b[0;34m(\u001b[0m\u001b[0;34m)\u001b[0m\u001b[0;34m\u001b[0m\u001b[0;34m\u001b[0m\u001b[0m\n\u001b[0;32m---> 15\u001b[0;31m     \u001b[0mmail\u001b[0m\u001b[0;34m.\u001b[0m\u001b[0msend\u001b[0m\u001b[0;34m(\u001b[0m\u001b[0mmails\u001b[0m\u001b[0;34m,\u001b[0m \u001b[0msubject\u001b[0m\u001b[0;34m,\u001b[0m \u001b[0mhtml_content\u001b[0m\u001b[0;34m)\u001b[0m\u001b[0;34m\u001b[0m\u001b[0;34m\u001b[0m\u001b[0m\n\u001b[0m",
      "\u001b[0;32m/tmp/ipykernel_30165/3994534937.py\u001b[0m in \u001b[0;36msend\u001b[0;34m(self, emails, subject, content)\u001b[0m\n\u001b[1;32m     10\u001b[0m         \u001b[0mssl_content\u001b[0m \u001b[0;34m=\u001b[0m \u001b[0mssl\u001b[0m\u001b[0;34m.\u001b[0m\u001b[0mcreate_default_context\u001b[0m\u001b[0;34m(\u001b[0m\u001b[0;34m)\u001b[0m\u001b[0;34m\u001b[0m\u001b[0;34m\u001b[0m\u001b[0m\n\u001b[1;32m     11\u001b[0m         \u001b[0mservice\u001b[0m \u001b[0;34m=\u001b[0m \u001b[0msmtplib\u001b[0m\u001b[0;34m.\u001b[0m\u001b[0mSMTP_SSL\u001b[0m\u001b[0;34m(\u001b[0m\u001b[0mself\u001b[0m\u001b[0;34m.\u001b[0m\u001b[0msmtp_server_domain_name\u001b[0m\u001b[0;34m,\u001b[0m \u001b[0mself\u001b[0m\u001b[0;34m.\u001b[0m\u001b[0mport\u001b[0m\u001b[0;34m,\u001b[0m \u001b[0mcontext\u001b[0m\u001b[0;34m=\u001b[0m\u001b[0mssl_content\u001b[0m\u001b[0;34m)\u001b[0m\u001b[0;34m\u001b[0m\u001b[0;34m\u001b[0m\u001b[0m\n\u001b[0;32m---> 12\u001b[0;31m         \u001b[0mservice\u001b[0m\u001b[0;34m.\u001b[0m\u001b[0mlogin\u001b[0m\u001b[0;34m(\u001b[0m\u001b[0mselff\u001b[0m\u001b[0;34m.\u001b[0m\u001b[0msender_mail\u001b[0m\u001b[0;34m,\u001b[0m \u001b[0mself\u001b[0m\u001b[0;34m.\u001b[0m\u001b[0mpassword\u001b[0m\u001b[0;34m)\u001b[0m\u001b[0;34m\u001b[0m\u001b[0;34m\u001b[0m\u001b[0m\n\u001b[0m\u001b[1;32m     13\u001b[0m \u001b[0;34m\u001b[0m\u001b[0m\n\u001b[1;32m     14\u001b[0m         \u001b[0;32mfor\u001b[0m \u001b[0memail\u001b[0m \u001b[0;32min\u001b[0m \u001b[0memails\u001b[0m\u001b[0;34m:\u001b[0m\u001b[0;34m\u001b[0m\u001b[0;34m\u001b[0m\u001b[0m\n",
      "\u001b[0;31mNameError\u001b[0m: name 'selff' is not defined"
     ]
    }
   ],
   "source": [
    "if __name__ == \"__main__\":\n",
    "    mails = input(\"Digite os e-mails: \").split()\n",
    "    subject = input(\"Digite o assunto do email: \")\n",
    "    \n",
    "    body_email = \"\"\"\n",
    "        <p>Ola, bom dia</p>\n",
    "        <p>E-mail de teste de codigo de envio de e-mail em python</p>\n",
    "        <p>Abraço,</p>\n",
    "        <p>Bruno P. Iglesias</p>\n",
    "    \"\"\"\n",
    "    \n",
    "    html_content = MIMEText(body_email, 'html')\n",
    "    \n",
    "    mail = Mail()\n",
    "    mail.send(mails, subject, html_content)\n",
    "    p"
   ]
  }
 ],
 "metadata": {
  "kernelspec": {
   "display_name": "Python 3 (ipykernel)",
   "language": "python",
   "name": "python3"
  },
  "language_info": {
   "codemirror_mode": {
    "name": "ipython",
    "version": 3
   },
   "file_extension": ".py",
   "mimetype": "text/x-python",
   "name": "python",
   "nbconvert_exporter": "python",
   "pygments_lexer": "ipython3",
   "version": "3.8.10"
  }
 },
 "nbformat": 4,
 "nbformat_minor": 5
}
