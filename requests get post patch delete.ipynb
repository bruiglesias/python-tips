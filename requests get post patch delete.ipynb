{
 "cells": [
  {
   "cell_type": "markdown",
   "id": "28602504",
   "metadata": {},
   "source": [
    "### Pegar Informações - GET"
   ]
  },
  {
   "cell_type": "code",
   "execution_count": 8,
   "id": "c634d1a7",
   "metadata": {},
   "outputs": [
    {
     "name": "stdout",
     "output_type": "stream",
     "text": [
      "<Response [200]>\n"
     ]
    }
   ],
   "source": [
    "import requests\n",
    "\n",
    "link = \"https://reqbin.com/echo\"\n",
    "requisicao = requests.get(link)\n",
    "\n",
    "print(requisicao)"
   ]
  },
  {
   "cell_type": "markdown",
   "id": "26756e00",
   "metadata": {},
   "source": [
    "### Pegar Informações - POST"
   ]
  },
  {
   "cell_type": "code",
   "execution_count": 9,
   "id": "750fd78d",
   "metadata": {},
   "outputs": [
    {
     "name": "stdout",
     "output_type": "stream",
     "text": [
      "<Response [200]>\n",
      "{'success': 'true'}\n"
     ]
    }
   ],
   "source": [
    "import requests\n",
    "\n",
    "data='{ \"Id\": 78912, \"Customer\": \"Jason Sweet\", \"Quantity\": 1, \"Price\": 18.00}'\n",
    "link = \"https://reqbin.com/echo/post/json\"\n",
    "\n",
    "requisicao = requests.post(link, data=data)\n",
    "\n",
    "print(requisicao)\n",
    "print(requisicao.json())"
   ]
  },
  {
   "cell_type": "markdown",
   "id": "da4c90b1",
   "metadata": {},
   "source": [
    "### Pegar Informações - PATCH"
   ]
  },
  {
   "cell_type": "code",
   "execution_count": 10,
   "id": "ad518aaf",
   "metadata": {},
   "outputs": [
    {
     "name": "stdout",
     "output_type": "stream",
     "text": [
      "<Response [200]>\n",
      "{'code': 401, 'meta': None, 'data': {'message': 'Authentication failed'}}\n"
     ]
    }
   ],
   "source": [
    "import requests\n",
    "\n",
    "data='{\"email\":\"abc1@gmail.com\"}'\n",
    "link = \"https://gorest.co.in/public-api/users/1158\"\n",
    "requisicao = requests.patch(link, data=data)\n",
    "\n",
    "print(requisicao)\n",
    "print(requisicao.json())"
   ]
  },
  {
   "cell_type": "markdown",
   "id": "86ecd13a",
   "metadata": {},
   "source": [
    "### Pegar Informações - DELETE"
   ]
  },
  {
   "cell_type": "code",
   "execution_count": 11,
   "id": "13bf84dd",
   "metadata": {},
   "outputs": [
    {
     "name": "stdout",
     "output_type": "stream",
     "text": [
      "<Response [200]>\n"
     ]
    }
   ],
   "source": [
    "import requests\n",
    "\n",
    "link = \"https://gorest.co.in/public-api/users/1158\"\n",
    "requisicao = requests.delete(link)\n",
    "\n",
    "print(requisicao)"
   ]
  }
 ],
 "metadata": {
  "kernelspec": {
   "display_name": "Python 3 (ipykernel)",
   "language": "python",
   "name": "python3"
  },
  "language_info": {
   "codemirror_mode": {
    "name": "ipython",
    "version": 3
   },
   "file_extension": ".py",
   "mimetype": "text/x-python",
   "name": "python",
   "nbconvert_exporter": "python",
   "pygments_lexer": "ipython3",
   "version": "3.8.10"
  }
 },
 "nbformat": 4,
 "nbformat_minor": 5
}
