{
 "cells": [
  {
   "cell_type": "markdown",
   "id": "e5e447fe",
   "metadata": {},
   "source": [
    "### Dependências do sistema operacional"
   ]
  },
  {
   "cell_type": "markdown",
   "id": "2305fa8d",
   "metadata": {},
   "source": [
    "<br/>\n",
    "sudo apt-get install portaudio19-dev\n",
    "<br/>\n",
    "<br/>"
   ]
  },
  {
   "cell_type": "markdown",
   "id": "deb9b380",
   "metadata": {},
   "source": [
    "### Instalando as bibliotecas"
   ]
  },
  {
   "cell_type": "code",
   "execution_count": 1,
   "id": "a0d1bd9b",
   "metadata": {
    "collapsed": true
   },
   "outputs": [
    {
     "name": "stdout",
     "output_type": "stream",
     "text": [
      "Requirement already satisfied: SpeechRecognition in /home/iglesias/Documentos/machine-learning/python-tips/lib/python3.8/site-packages (3.8.1)\n",
      "Collecting pyaudio\n",
      "  Using cached PyAudio-0.2.11.tar.gz (37 kB)\n",
      "Building wheels for collected packages: pyaudio\n",
      "  Building wheel for pyaudio (setup.py) ... \u001b[?25ldone\n",
      "\u001b[?25h  Created wheel for pyaudio: filename=PyAudio-0.2.11-cp38-cp38-linux_x86_64.whl size=56409 sha256=4b365f8574f7e8879e9e2de643bff468e63670ad5fb640801dbd34440ebfd376\n",
      "  Stored in directory: /home/iglesias/.cache/pip/wheels/cf/be/f6/06f4d9fb96713a3ba58a480dd5739b3bf66ff0430de58a38c1\n",
      "Successfully built pyaudio\n",
      "Installing collected packages: pyaudio\n",
      "Successfully installed pyaudio-0.2.11\n"
     ]
    }
   ],
   "source": [
    "!pip3 install SpeechRecognition\n",
    "!pip3 install pyaudio"
   ]
  },
  {
   "cell_type": "code",
   "execution_count": 8,
   "id": "62da3aac",
   "metadata": {},
   "outputs": [
    {
     "name": "stdout",
     "output_type": "stream",
     "text": [
      "Pode falar que eu vou gravar: \n",
      "testando\n"
     ]
    }
   ],
   "source": [
    "import speech_recognition as sr\n",
    "\n",
    "rec = sr.Recognizer()\n",
    "\n",
    "with sr.Microphone() as mic:\n",
    "    try:\n",
    "        rec.adjust_for_ambient_noise(mic)\n",
    "        print(\"Pode falar que eu vou gravar: \")\n",
    "        audio = rec.listen(mic)\n",
    "        texto = rec.recognize_google(audio, language='pt-BR')\n",
    "        print(texto)\n",
    "    except:\n",
    "        print(\"Não foi possível entender o que você disse.\")"
   ]
  }
 ],
 "metadata": {
  "kernelspec": {
   "display_name": "Python 3 (ipykernel)",
   "language": "python",
   "name": "python3"
  },
  "language_info": {
   "codemirror_mode": {
    "name": "ipython",
    "version": 3
   },
   "file_extension": ".py",
   "mimetype": "text/x-python",
   "name": "python",
   "nbconvert_exporter": "python",
   "pygments_lexer": "ipython3",
   "version": "3.8.10"
  }
 },
 "nbformat": 4,
 "nbformat_minor": 5
}
