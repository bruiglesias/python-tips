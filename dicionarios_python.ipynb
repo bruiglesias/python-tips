{
 "cells": [
  {
   "cell_type": "markdown",
   "id": "40c3dd9a",
   "metadata": {},
   "source": [
    "## Dicionários em Python"
   ]
  },
  {
   "cell_type": "markdown",
   "id": "b6a9016a",
   "metadata": {},
   "source": [
    "<strong>Dicionário é uma lista com um rótulo</strong>\n",
    "- É muito bom para armazenar informações que precisam de algum tipo de identificador. "
   ]
  },
  {
   "cell_type": "code",
   "execution_count": 15,
   "id": "9b47cb4b",
   "metadata": {},
   "outputs": [],
   "source": [
    "emails_gerentes = {\n",
    "    \"Iguatemi\": \"iguatemi@gmail.com\",\n",
    "    \"Plaza\": \"plaza@gmail.com\",\n",
    "    \"Barra\": \"barra@gmail.com\"\n",
    "}"
   ]
  },
  {
   "cell_type": "markdown",
   "id": "17d7a648",
   "metadata": {
    "heading_collapsed": true
   },
   "source": [
    "### Encontrando o valor a partir de uma chave"
   ]
  },
  {
   "cell_type": "code",
   "execution_count": 5,
   "id": "8aa078b7",
   "metadata": {
    "hidden": true
   },
   "outputs": [
    {
     "name": "stdout",
     "output_type": "stream",
     "text": [
      "iguatemi@gmail.com\n"
     ]
    }
   ],
   "source": [
    "email = emails_gerentes['Iguatemi']\n",
    "print(email)"
   ]
  },
  {
   "cell_type": "markdown",
   "id": "1274e3f3",
   "metadata": {
    "heading_collapsed": true
   },
   "source": [
    "### Adicionando um novo item ao dicionário"
   ]
  },
  {
   "cell_type": "code",
   "execution_count": 16,
   "id": "24828c99",
   "metadata": {
    "hidden": true
   },
   "outputs": [
    {
     "name": "stdout",
     "output_type": "stream",
     "text": [
      "{'Iguatemi': 'iguatemi@gmail.com', 'Plaza': 'plaza@gmail.com', 'Barra': 'barra@gmail.com', 'Leblon': 'leblon@gmail.com'}\n"
     ]
    }
   ],
   "source": [
    "emails_gerentes[\"Leblon\"] = \"leblon@gmail.com\"\n",
    "print(emails_gerentes)"
   ]
  },
  {
   "cell_type": "markdown",
   "id": "947d1df7",
   "metadata": {
    "heading_collapsed": true
   },
   "source": [
    "### Percorrer as chaves de um dicionário"
   ]
  },
  {
   "cell_type": "code",
   "execution_count": 7,
   "id": "e1d58a93",
   "metadata": {
    "hidden": true
   },
   "outputs": [
    {
     "name": "stdout",
     "output_type": "stream",
     "text": [
      "Iguatemi\n",
      "Plaza\n",
      "Barra\n",
      "Leblon\n"
     ]
    }
   ],
   "source": [
    "# Forma 1: usando o for\n",
    "for shopping in emails_gerentes:\n",
    "    print(shopping)"
   ]
  },
  {
   "cell_type": "code",
   "execution_count": 9,
   "id": "096aa8c7",
   "metadata": {
    "hidden": true
   },
   "outputs": [
    {
     "name": "stdout",
     "output_type": "stream",
     "text": [
      "dict_keys(['Iguatemi', 'Plaza', 'Barra', 'Leblon'])\n"
     ]
    }
   ],
   "source": [
    "# Forma 2: dicionario.keys()\n",
    "print(emails_gerentes.keys())"
   ]
  },
  {
   "cell_type": "markdown",
   "id": "8493cec8",
   "metadata": {
    "heading_collapsed": true
   },
   "source": [
    "### Percorrer todos os valores de um dicionário"
   ]
  },
  {
   "cell_type": "code",
   "execution_count": 10,
   "id": "97b4a564",
   "metadata": {
    "hidden": true
   },
   "outputs": [
    {
     "name": "stdout",
     "output_type": "stream",
     "text": [
      "iguatemi@gmail.com\n",
      "plaza@gmail.com\n",
      "barra@gmail.com\n",
      "leblon@gmail.com\n"
     ]
    }
   ],
   "source": [
    "# Forma 1: usando o for\n",
    "for shopping in emails_gerentes:\n",
    "    email = emails_gerentes[shopping]\n",
    "    print(email)"
   ]
  },
  {
   "cell_type": "code",
   "execution_count": 12,
   "id": "0cb87616",
   "metadata": {
    "hidden": true
   },
   "outputs": [
    {
     "name": "stdout",
     "output_type": "stream",
     "text": [
      "dict_values(['iguatemi@gmail.com', 'plaza@gmail.com', 'barra@gmail.com', 'leblon@gmail.com'])\n"
     ]
    }
   ],
   "source": [
    "# Forma 2: dicionario.values()\n",
    "print(emails_gerentes.values())"
   ]
  },
  {
   "cell_type": "markdown",
   "id": "9639ade3",
   "metadata": {
    "heading_collapsed": true
   },
   "source": [
    "### Retirando um item do dicionário"
   ]
  },
  {
   "cell_type": "code",
   "execution_count": 17,
   "id": "c24518eb",
   "metadata": {
    "hidden": true,
    "scrolled": true
   },
   "outputs": [
    {
     "name": "stdout",
     "output_type": "stream",
     "text": [
      "{'Iguatemi': 'iguatemi@gmail.com', 'Plaza': 'plaza@gmail.com', 'Barra': 'barra@gmail.com'}\n"
     ]
    }
   ],
   "source": [
    "emails_gerentes.pop('Leblon')\n",
    "print(emails_gerentes)"
   ]
  },
  {
   "cell_type": "markdown",
   "id": "b1efef46",
   "metadata": {
    "heading_collapsed": true
   },
   "source": [
    "### Verificar se uma chave existe"
   ]
  },
  {
   "cell_type": "code",
   "execution_count": 20,
   "id": "9afdbf0c",
   "metadata": {
    "hidden": true
   },
   "outputs": [
    {
     "name": "stdout",
     "output_type": "stream",
     "text": [
      "Não Existe\n"
     ]
    }
   ],
   "source": [
    "if \"Leblon\" in emails_gerentes:\n",
    "    print(\"Existe\")\n",
    "else:\n",
    "    print(\"Não Existe\")"
   ]
  },
  {
   "cell_type": "markdown",
   "id": "ad69e963",
   "metadata": {
    "heading_collapsed": true
   },
   "source": [
    "### Verificar se um valor existe"
   ]
  },
  {
   "cell_type": "code",
   "execution_count": 21,
   "id": "5eb39c27",
   "metadata": {
    "hidden": true
   },
   "outputs": [
    {
     "name": "stdout",
     "output_type": "stream",
     "text": [
      "Existe\n"
     ]
    }
   ],
   "source": [
    "if \"iguatemi@gmail.com\" in emails_gerentes.values():\n",
    "    print(\"Existe\")\n",
    "else:\n",
    "    print(\"Não Existe\")"
   ]
  }
 ],
 "metadata": {
  "kernelspec": {
   "display_name": "Python 3 (ipykernel)",
   "language": "python",
   "name": "python3"
  },
  "language_info": {
   "codemirror_mode": {
    "name": "ipython",
    "version": 3
   },
   "file_extension": ".py",
   "mimetype": "text/x-python",
   "name": "python",
   "nbconvert_exporter": "python",
   "pygments_lexer": "ipython3",
   "version": "3.8.10"
  }
 },
 "nbformat": 4,
 "nbformat_minor": 5
}
